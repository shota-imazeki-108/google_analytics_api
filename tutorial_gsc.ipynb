{
 "cells": [
  {
   "cell_type": "markdown",
   "metadata": {},
   "source": [
    "### google search consoleへの登録\n",
    "- https://web-kanji.com/posts/search-console-setting\n",
    "\n",
    "### search console api\n",
    "- https://note.nkmk.me/python-search-console-api-download/"
   ]
  },
  {
   "cell_type": "markdown",
   "metadata": {},
   "source": [
    "# Import"
   ]
  },
  {
   "cell_type": "code",
   "execution_count": 1,
   "metadata": {},
   "outputs": [],
   "source": [
    "from src.utils import initialize_service_object\n",
    "from src.body import BodyForGsc\n",
    "from src.service import ServiceObjectForGsc"
   ]
  },
  {
   "cell_type": "markdown",
   "metadata": {},
   "source": [
    "# Initialize Service Object"
   ]
  },
  {
   "cell_type": "code",
   "execution_count": 2,
   "metadata": {},
   "outputs": [
    {
     "name": "stdout",
     "output_type": "stream",
     "text": [
      "['webmasters', 'v3', 'client_secrets_imazeki.json', ['https://www.googleapis.com/auth/webmasters.readonly']]\n"
     ]
    }
   ],
   "source": [
    "params = list(ServiceObjectForGsc.get_params())\n",
    "params[2] = 'client_secrets_imazeki.json' # DATUMサイトのを使えるようになれば、こんな処理は不要になる\n",
    "print(params)\n",
    "service = initialize_service_object(*params)"
   ]
  },
  {
   "cell_type": "markdown",
   "metadata": {},
   "source": [
    "# Get Google  Search Console Data"
   ]
  },
  {
   "cell_type": "code",
   "execution_count": 3,
   "metadata": {},
   "outputs": [],
   "source": [
    "start_date = '2020-05-01'\n",
    "end_date = '2020-07-31'\n",
    "d_list = ['query', 'page']\n",
    "url = 'https://shota-imazeki-108.github.io/portfolio.github.io/' # TODO: 別ファイルで管理すべき"
   ]
  },
  {
   "cell_type": "code",
   "execution_count": 4,
   "metadata": {},
   "outputs": [],
   "source": [
    "gsc = BodyForGsc(start_date, end_date)\n",
    "body = gsc.get_body(d_list)\n",
    "response = service.searchanalytics().query(siteUrl=url, body=body).execute()"
   ]
  },
  {
   "cell_type": "code",
   "execution_count": 5,
   "metadata": {},
   "outputs": [
    {
     "name": "stdout",
     "output_type": "stream",
     "text": [
      "{'responseAggregationType': 'byPage'}\n"
     ]
    }
   ],
   "source": [
    "# クローラーがサイトにきていない&検索されるようなサイトじゃない\n",
    "print(response)"
   ]
  },
  {
   "cell_type": "code",
   "execution_count": null,
   "metadata": {},
   "outputs": [],
   "source": []
  }
 ],
 "metadata": {
  "kernelspec": {
   "display_name": "Python 3",
   "language": "python",
   "name": "python3"
  },
  "language_info": {
   "codemirror_mode": {
    "name": "ipython",
    "version": 3
   },
   "file_extension": ".py",
   "mimetype": "text/x-python",
   "name": "python",
   "nbconvert_exporter": "python",
   "pygments_lexer": "ipython3",
   "version": "3.7.2"
  }
 },
 "nbformat": 4,
 "nbformat_minor": 2
}
