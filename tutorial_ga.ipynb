{
 "cells": [
  {
   "cell_type": "code",
   "execution_count": 1,
   "metadata": {},
   "outputs": [],
   "source": [
    "from src.utils import initialize_service_object\n",
    "from src.body import BodyForGaReports , BodyForGaUserActivity\n",
    "from src.service import ServiceObjectForGa\n",
    "\n",
    "import pandas as pd\n",
    "import time"
   ]
  },
  {
   "cell_type": "markdown",
   "metadata": {},
   "source": [
    "# Initialize Service Object"
   ]
  },
  {
   "cell_type": "code",
   "execution_count": 2,
   "metadata": {},
   "outputs": [],
   "source": [
    "service = initialize_service_object(*ServiceObjectForGa.get_params())"
   ]
  },
  {
   "cell_type": "markdown",
   "metadata": {},
   "source": [
    "# Get Google Analytics Reports"
   ]
  },
  {
   "cell_type": "code",
   "execution_count": 3,
   "metadata": {},
   "outputs": [],
   "source": [
    "start_date = '2020-07-31'\n",
    "end_date = '2020-07-31'\n",
    "m_list = ['users', 'sessions'] # metrics\n",
    "d_list = ['clientId'] # dimensions\n",
    "# ['ga:userType', 'ga:country', 'ga:region', 'ga:metro', 'ga:city', 'ga:browser', 'ga:deviceCategory', 'ga:operatingSystem']\n",
    "# ['previousPagePath', 'pageTitle', 'landingPagePath', 'exitPagePath', 'pagePath', 'language', 'date']\n",
    "# d_list = ['userGender', 'userAgeBracket']"
   ]
  },
  {
   "cell_type": "code",
   "execution_count": 4,
   "metadata": {},
   "outputs": [],
   "source": [
    "ga = BodyForGaReports(start_date, end_date)\n",
    "body = ga.get_body(m_list, d_list)\n",
    "reports = service.reports().batchGet(body=body).execute()"
   ]
  },
  {
   "cell_type": "code",
   "execution_count": 5,
   "metadata": {
    "scrolled": true
   },
   "outputs": [
    {
     "name": "stderr",
     "output_type": "stream",
     "text": [
      "/Users/s.imazeki/Documents/GA/src/body/body_for_ga_reports.py:31: FutureWarning: pandas.io.json.json_normalize is deprecated, use pandas.json_normalize instead\n",
      "  df = pd.io.json.json_normalize(rows)\n"
     ]
    },
    {
     "data": {
      "text/html": [
       "<div>\n",
       "<style scoped>\n",
       "    .dataframe tbody tr th:only-of-type {\n",
       "        vertical-align: middle;\n",
       "    }\n",
       "\n",
       "    .dataframe tbody tr th {\n",
       "        vertical-align: top;\n",
       "    }\n",
       "\n",
       "    .dataframe thead th {\n",
       "        text-align: right;\n",
       "    }\n",
       "</style>\n",
       "<table border=\"1\" class=\"dataframe\">\n",
       "  <thead>\n",
       "    <tr style=\"text-align: right;\">\n",
       "      <th></th>\n",
       "      <th>clientId</th>\n",
       "      <th>users</th>\n",
       "      <th>sessions</th>\n",
       "    </tr>\n",
       "  </thead>\n",
       "  <tbody>\n",
       "    <tr>\n",
       "      <th>0</th>\n",
       "      <td>1002006134.1596178612</td>\n",
       "      <td>1</td>\n",
       "      <td>1</td>\n",
       "    </tr>\n",
       "    <tr>\n",
       "      <th>1</th>\n",
       "      <td>1006063715.1594347551</td>\n",
       "      <td>1</td>\n",
       "      <td>1</td>\n",
       "    </tr>\n",
       "    <tr>\n",
       "      <th>2</th>\n",
       "      <td>1011196529.1596175563</td>\n",
       "      <td>1</td>\n",
       "      <td>1</td>\n",
       "    </tr>\n",
       "    <tr>\n",
       "      <th>3</th>\n",
       "      <td>1011246136.1594876125</td>\n",
       "      <td>1</td>\n",
       "      <td>1</td>\n",
       "    </tr>\n",
       "    <tr>\n",
       "      <th>4</th>\n",
       "      <td>1013231651.1596153032</td>\n",
       "      <td>1</td>\n",
       "      <td>1</td>\n",
       "    </tr>\n",
       "  </tbody>\n",
       "</table>\n",
       "</div>"
      ],
      "text/plain": [
       "                clientId users sessions\n",
       "0  1002006134.1596178612     1        1\n",
       "1  1006063715.1594347551     1        1\n",
       "2  1011196529.1596175563     1        1\n",
       "3  1011246136.1594876125     1        1\n",
       "4  1013231651.1596153032     1        1"
      ]
     },
     "execution_count": 5,
     "metadata": {},
     "output_type": "execute_result"
    }
   ],
   "source": [
    "df = ga.report_rows_to_df(reports['reports'][0]['data']['rows'])\n",
    "df.head()\n"
   ]
  },
  {
   "cell_type": "code",
   "execution_count": 6,
   "metadata": {},
   "outputs": [
    {
     "name": "stdout",
     "output_type": "stream",
     "text": [
      "888\n"
     ]
    }
   ],
   "source": [
    "ids = list(df.clientId.unique())\n",
    "print(len(ids))"
   ]
  },
  {
   "cell_type": "markdown",
   "metadata": {},
   "source": [
    "# Get User Activity"
   ]
  },
  {
   "cell_type": "code",
   "execution_count": 7,
   "metadata": {},
   "outputs": [],
   "source": [
    "# https://developers.google.com/analytics/devguides/config/mgmt/v3/limits-quotas?hl=ja\n",
    "# https://console.developers.google.com/?hl=ja\n",
    "# から ReportingAPIを選択して、上限を１０００件にあげられる\n",
    "# 対象のプロジェクトに入っている状態"
   ]
  },
  {
   "cell_type": "code",
   "execution_count": 8,
   "metadata": {
    "scrolled": true
   },
   "outputs": [
    {
     "name": "stdout",
     "output_type": "stream",
     "text": [
      "CPU times: user 8.66 s, sys: 219 ms, total: 8.88 s\n",
      "Wall time: 13min 34s\n"
     ]
    }
   ],
   "source": [
    "%%time\n",
    "dfs = []\n",
    "cnt = 1\n",
    "for id in ids:\n",
    "    ua = BodyForGaUserActivity(start_date, end_date)\n",
    "    body = ua.get_body(id)\n",
    "    activity = service.userActivity().search(body=body).execute()\n",
    "    df = ua.sessions_to_df(activity['sessions'])\n",
    "    df['clientId'] = id\n",
    "    dfs.append(df)\n",
    "    cnt += 1\n",
    "    if cnt % 1000 ==0:\n",
    "        time.sleep(100) # 100秒あたり100件のリクエスト制限"
   ]
  },
  {
   "cell_type": "code",
   "execution_count": 12,
   "metadata": {},
   "outputs": [
    {
     "data": {
      "text/html": [
       "<div>\n",
       "<style scoped>\n",
       "    .dataframe tbody tr th:only-of-type {\n",
       "        vertical-align: middle;\n",
       "    }\n",
       "\n",
       "    .dataframe tbody tr th {\n",
       "        vertical-align: top;\n",
       "    }\n",
       "\n",
       "    .dataframe thead th {\n",
       "        text-align: right;\n",
       "    }\n",
       "</style>\n",
       "<table border=\"1\" class=\"dataframe\">\n",
       "  <thead>\n",
       "    <tr style=\"text-align: right;\">\n",
       "      <th></th>\n",
       "      <th>activityTime</th>\n",
       "      <th>source</th>\n",
       "      <th>medium</th>\n",
       "      <th>channelGrouping</th>\n",
       "      <th>campaign</th>\n",
       "      <th>keyword</th>\n",
       "      <th>hostname</th>\n",
       "      <th>landingPagePath</th>\n",
       "      <th>activityType</th>\n",
       "      <th>pagePath</th>\n",
       "      <th>...</th>\n",
       "      <th>platform</th>\n",
       "      <th>dataSource</th>\n",
       "      <th>sessionDate</th>\n",
       "      <th>clientId</th>\n",
       "      <th>goals</th>\n",
       "      <th>eventCategory</th>\n",
       "      <th>eventAction</th>\n",
       "      <th>eventLabel</th>\n",
       "      <th>eventValue</th>\n",
       "      <th>eventCount</th>\n",
       "    </tr>\n",
       "  </thead>\n",
       "  <tbody>\n",
       "    <tr>\n",
       "      <th>0</th>\n",
       "      <td>2020-07-31T15:56:52.817110Z</td>\n",
       "      <td>bing</td>\n",
       "      <td>organic</td>\n",
       "      <td>Organic Search</td>\n",
       "      <td>(not set)</td>\n",
       "      <td>(not provided)</td>\n",
       "      <td>datumstudio.jp</td>\n",
       "      <td>/blog/データ分析を強みとする上場企業各社の9月期決算</td>\n",
       "      <td>PAGEVIEW</td>\n",
       "      <td>/blog/データ分析を強みとする上場企業各社の9月期決算</td>\n",
       "      <td>...</td>\n",
       "      <td>Windows</td>\n",
       "      <td>web</td>\n",
       "      <td>2020-07-31</td>\n",
       "      <td>1002006134.1596178612</td>\n",
       "      <td>NaN</td>\n",
       "      <td>NaN</td>\n",
       "      <td>NaN</td>\n",
       "      <td>NaN</td>\n",
       "      <td>NaN</td>\n",
       "      <td>NaN</td>\n",
       "    </tr>\n",
       "    <tr>\n",
       "      <th>0</th>\n",
       "      <td>2020-07-31T10:22:17.604371Z</td>\n",
       "      <td>google</td>\n",
       "      <td>organic</td>\n",
       "      <td>Organic Search</td>\n",
       "      <td>(not set)</td>\n",
       "      <td>(not provided)</td>\n",
       "      <td>datumstudio.jp</td>\n",
       "      <td>/information/0519game_ms</td>\n",
       "      <td>PAGEVIEW</td>\n",
       "      <td>/information/0519game_ms</td>\n",
       "      <td>...</td>\n",
       "      <td>Macintosh</td>\n",
       "      <td>web</td>\n",
       "      <td>2020-07-31</td>\n",
       "      <td>1006063715.1594347551</td>\n",
       "      <td>NaN</td>\n",
       "      <td>NaN</td>\n",
       "      <td>NaN</td>\n",
       "      <td>NaN</td>\n",
       "      <td>NaN</td>\n",
       "      <td>NaN</td>\n",
       "    </tr>\n",
       "    <tr>\n",
       "      <th>0</th>\n",
       "      <td>2020-07-31T15:10:10.781258Z</td>\n",
       "      <td>google</td>\n",
       "      <td>organic</td>\n",
       "      <td>Organic Search</td>\n",
       "      <td>(not set)</td>\n",
       "      <td>(not provided)</td>\n",
       "      <td>datumstudio.jp</td>\n",
       "      <td>/blog/連載：azure-で学ぶインフラ入門３（dbサーバー構築編</td>\n",
       "      <td>PAGEVIEW</td>\n",
       "      <td>/blog/datum-studio社員旅行2018in韓国ソウル</td>\n",
       "      <td>...</td>\n",
       "      <td>Windows</td>\n",
       "      <td>web</td>\n",
       "      <td>2020-07-31</td>\n",
       "      <td>1011196529.1596175563</td>\n",
       "      <td>NaN</td>\n",
       "      <td>NaN</td>\n",
       "      <td>NaN</td>\n",
       "      <td>NaN</td>\n",
       "      <td>NaN</td>\n",
       "      <td>NaN</td>\n",
       "    </tr>\n",
       "    <tr>\n",
       "      <th>1</th>\n",
       "      <td>2020-07-31T15:09:58.976616Z</td>\n",
       "      <td>google</td>\n",
       "      <td>organic</td>\n",
       "      <td>Organic Search</td>\n",
       "      <td>(not set)</td>\n",
       "      <td>(not provided)</td>\n",
       "      <td>datumstudio.jp</td>\n",
       "      <td>/blog/連載：azure-で学ぶインフラ入門３（dbサーバー構築編</td>\n",
       "      <td>PAGEVIEW</td>\n",
       "      <td>/blog/【r】主成分分析と探索的因子分析で顧客満足度を</td>\n",
       "      <td>...</td>\n",
       "      <td>Windows</td>\n",
       "      <td>web</td>\n",
       "      <td>2020-07-31</td>\n",
       "      <td>1011196529.1596175563</td>\n",
       "      <td>NaN</td>\n",
       "      <td>NaN</td>\n",
       "      <td>NaN</td>\n",
       "      <td>NaN</td>\n",
       "      <td>NaN</td>\n",
       "      <td>NaN</td>\n",
       "    </tr>\n",
       "    <tr>\n",
       "      <th>2</th>\n",
       "      <td>2020-07-31T15:09:45.966822Z</td>\n",
       "      <td>google</td>\n",
       "      <td>organic</td>\n",
       "      <td>Organic Search</td>\n",
       "      <td>(not set)</td>\n",
       "      <td>(not provided)</td>\n",
       "      <td>datumstudio.jp</td>\n",
       "      <td>/blog/連載：azure-で学ぶインフラ入門３（dbサーバー構築編</td>\n",
       "      <td>PAGEVIEW</td>\n",
       "      <td>/blog/pandasでcsvファイルを読み書き</td>\n",
       "      <td>...</td>\n",
       "      <td>Windows</td>\n",
       "      <td>web</td>\n",
       "      <td>2020-07-31</td>\n",
       "      <td>1011196529.1596175563</td>\n",
       "      <td>NaN</td>\n",
       "      <td>NaN</td>\n",
       "      <td>NaN</td>\n",
       "      <td>NaN</td>\n",
       "      <td>NaN</td>\n",
       "      <td>NaN</td>\n",
       "    </tr>\n",
       "  </tbody>\n",
       "</table>\n",
       "<p>5 rows × 23 columns</p>\n",
       "</div>"
      ],
      "text/plain": [
       "                  activityTime  source   medium channelGrouping   campaign  \\\n",
       "0  2020-07-31T15:56:52.817110Z    bing  organic  Organic Search  (not set)   \n",
       "0  2020-07-31T10:22:17.604371Z  google  organic  Organic Search  (not set)   \n",
       "0  2020-07-31T15:10:10.781258Z  google  organic  Organic Search  (not set)   \n",
       "1  2020-07-31T15:09:58.976616Z  google  organic  Organic Search  (not set)   \n",
       "2  2020-07-31T15:09:45.966822Z  google  organic  Organic Search  (not set)   \n",
       "\n",
       "          keyword        hostname                      landingPagePath  \\\n",
       "0  (not provided)  datumstudio.jp        /blog/データ分析を強みとする上場企業各社の9月期決算   \n",
       "0  (not provided)  datumstudio.jp             /information/0519game_ms   \n",
       "0  (not provided)  datumstudio.jp  /blog/連載：azure-で学ぶインフラ入門３（dbサーバー構築編   \n",
       "1  (not provided)  datumstudio.jp  /blog/連載：azure-で学ぶインフラ入門３（dbサーバー構築編   \n",
       "2  (not provided)  datumstudio.jp  /blog/連載：azure-で学ぶインフラ入門３（dbサーバー構築編   \n",
       "\n",
       "  activityType                           pagePath  ...   platform dataSource  \\\n",
       "0     PAGEVIEW      /blog/データ分析を強みとする上場企業各社の9月期決算  ...    Windows        web   \n",
       "0     PAGEVIEW           /information/0519game_ms  ...  Macintosh        web   \n",
       "0     PAGEVIEW  /blog/datum-studio社員旅行2018in韓国ソウル  ...    Windows        web   \n",
       "1     PAGEVIEW      /blog/【r】主成分分析と探索的因子分析で顧客満足度を  ...    Windows        web   \n",
       "2     PAGEVIEW          /blog/pandasでcsvファイルを読み書き  ...    Windows        web   \n",
       "\n",
       "  sessionDate               clientId goals eventCategory eventAction  \\\n",
       "0  2020-07-31  1002006134.1596178612   NaN           NaN         NaN   \n",
       "0  2020-07-31  1006063715.1594347551   NaN           NaN         NaN   \n",
       "0  2020-07-31  1011196529.1596175563   NaN           NaN         NaN   \n",
       "1  2020-07-31  1011196529.1596175563   NaN           NaN         NaN   \n",
       "2  2020-07-31  1011196529.1596175563   NaN           NaN         NaN   \n",
       "\n",
       "  eventLabel eventValue eventCount  \n",
       "0        NaN        NaN        NaN  \n",
       "0        NaN        NaN        NaN  \n",
       "0        NaN        NaN        NaN  \n",
       "1        NaN        NaN        NaN  \n",
       "2        NaN        NaN        NaN  \n",
       "\n",
       "[5 rows x 23 columns]"
      ]
     },
     "execution_count": 12,
     "metadata": {},
     "output_type": "execute_result"
    }
   ],
   "source": [
    "df = pd.concat(dfs)\n",
    "df.head()"
   ]
  },
  {
   "cell_type": "code",
   "execution_count": 13,
   "metadata": {},
   "outputs": [],
   "source": [
    "df.to_csv('./user_activity.csv', index=False, header=True)"
   ]
  },
  {
   "cell_type": "code",
   "execution_count": null,
   "metadata": {},
   "outputs": [],
   "source": []
  }
 ],
 "metadata": {
  "kernelspec": {
   "display_name": "Python 3",
   "language": "python",
   "name": "python3"
  },
  "language_info": {
   "codemirror_mode": {
    "name": "ipython",
    "version": 3
   },
   "file_extension": ".py",
   "mimetype": "text/x-python",
   "name": "python",
   "nbconvert_exporter": "python",
   "pygments_lexer": "ipython3",
   "version": "3.7.2"
  }
 },
 "nbformat": 4,
 "nbformat_minor": 2
}
